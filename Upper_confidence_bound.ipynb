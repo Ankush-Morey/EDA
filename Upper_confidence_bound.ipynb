{
 "cells": [
  {
   "cell_type": "markdown",
   "metadata": {
    "id": "QJdrJJQUv3-k"
   },
   "source": [
    "# Upper Confidence Bound (UCB)"
   ]
  },
  {
   "cell_type": "markdown",
   "metadata": {
    "id": "2XCjepjJwEv-"
   },
   "source": [
    "## Importing the libraries"
   ]
  },
  {
   "cell_type": "code",
   "execution_count": 6,
   "metadata": {
    "executionInfo": {
     "elapsed": 1878,
     "status": "ok",
     "timestamp": 1621443320063,
     "user": {
      "displayName": "Ankush Morey",
      "photoUrl": "https://lh3.googleusercontent.com/a-/AOh14GjVKfn7g2JwyGbt-6iZ9k80cvedAuZTxNrECftL3Q=s64",
      "userId": "13924124285132504062"
     },
     "user_tz": 240
    },
    "id": "JVQtJfmJRdaT"
   },
   "outputs": [],
   "source": [
    "import numpy as np\n",
    "import matplotlib.pyplot as plt\n",
    "import pandas as pd\n",
    "import math"
   ]
  },
  {
   "cell_type": "markdown",
   "metadata": {
    "id": "npqlXjaNwYTv"
   },
   "source": [
    "## Importing the dataset"
   ]
  },
  {
   "cell_type": "code",
   "execution_count": 3,
   "metadata": {
    "executionInfo": {
     "elapsed": 233,
     "status": "ok",
     "timestamp": 1621438725332,
     "user": {
      "displayName": "Ankush Morey",
      "photoUrl": "https://lh3.googleusercontent.com/a-/AOh14GjVKfn7g2JwyGbt-6iZ9k80cvedAuZTxNrECftL3Q=s64",
      "userId": "13924124285132504062"
     },
     "user_tz": 240
    },
    "id": "R3E0pxvHRoA4"
   },
   "outputs": [],
   "source": [
    "df = pd.read_csv('Ads_CTR_Optimisation.csv')"
   ]
  },
  {
   "cell_type": "markdown",
   "metadata": {
    "id": "PaSbots_wfoB"
   },
   "source": [
    "## Implementing UCB"
   ]
  },
  {
   "cell_type": "code",
   "execution_count": 7,
   "metadata": {
    "executionInfo": {
     "elapsed": 489,
     "status": "ok",
     "timestamp": 1621443327519,
     "user": {
      "displayName": "Ankush Morey",
      "photoUrl": "https://lh3.googleusercontent.com/a-/AOh14GjVKfn7g2JwyGbt-6iZ9k80cvedAuZTxNrECftL3Q=s64",
      "userId": "13924124285132504062"
     },
     "user_tz": 240
    },
    "id": "5dJprU0dR4Q9"
   },
   "outputs": [],
   "source": [
    "#No. of users we will display the ads\n",
    "N = 10000\n",
    "\n",
    "#No. of Ads we have\n",
    "d=10\n",
    "\n",
    "#Full list of ads that are selected, over the rounds it will get bigger and \n",
    "# bigger until it is 10000 elements\n",
    "ads_selected = []\n",
    "\n",
    "#Number of times Ad i was selected upto round n = Ni\n",
    "numbers_of_selections = [0] * d \n",
    "\n",
    "#Sum of rewards of Ad i upto round n = Ri\n",
    "Sums_of_rewards = [0] * d\n",
    "\n",
    "#Total rewards accumulated over the rounds\n",
    "total_reward = 0\n",
    "\n",
    "for n in range(0,N):\n",
    "  ad=0\n",
    "  max_upper_bound = 0\n",
    "  for i in range(0,d):\n",
    "    if numbers_of_selections[i] > 0:\n",
    "      avg_reward=Sums_of_rewards[i]/numbers_of_selections[i]\n",
    "      delta_i = math.sqrt((3/2)*(math.log(n+1)/numbers_of_selections[i]))\n",
    "      upper_bound = avg_reward + delta_i\n",
    "    else:\n",
    "      upper_bound = 1e400\n",
    "    if(upper_bound>max_upper_bound):\n",
    "      max_upper_bound = upper_bound\n",
    "      ad=i\n",
    "  ads_selected.append(ad)\n",
    "  numbers_of_selections[ad] += 1\n",
    "  reward = df.values[n,ad]\n",
    "  Sums_of_rewards[ad] = Sums_of_rewards[ad] + reward\n",
    "  total_reward = total_reward + reward"
   ]
  },
  {
   "cell_type": "markdown",
   "metadata": {
    "id": "AXftWcjDwsYj"
   },
   "source": [
    "## Visualising the results"
   ]
  },
  {
   "cell_type": "code",
   "execution_count": 9,
   "metadata": {
    "colab": {
     "base_uri": "https://localhost:8080/",
     "height": 313
    },
    "executionInfo": {
     "elapsed": 408,
     "status": "ok",
     "timestamp": 1621443425532,
     "user": {
      "displayName": "Ankush Morey",
      "photoUrl": "https://lh3.googleusercontent.com/a-/AOh14GjVKfn7g2JwyGbt-6iZ9k80cvedAuZTxNrECftL3Q=s64",
      "userId": "13924124285132504062"
     },
     "user_tz": 240
    },
    "id": "On7oIBCnjIk4",
    "outputId": "3b2d611e-e9af-4e0b-fa1e-e6706a78627a"
   },
   "outputs": [
    {
     "data": {
      "text/plain": [
       "Text(0.5, 1.0, 'Histogram of Ad selected')"
      ]
     },
     "execution_count": 9,
     "metadata": {
      "tags": []
     },
     "output_type": "execute_result"
    },
    {
     "data": {
      "image/png": "[encoded data removed]",
      "text/plain": [
       "<Figure size 432x288 with 1 Axes>"
      ]
     },
     "metadata": {
      "needs_background": "light",
      "tags": []
     },
     "output_type": "display_data"
    }
   ],
   "source": [
    "plt.hist(ads_selected)\n",
    "plt.xlabel('Ad number')\n",
    "plt.ylabel('No. of times selected')\n",
    "plt.title('Histogram of Ad selected')"
   ]
  },
  {
   "cell_type": "markdown",
   "metadata": {
    "id": "b-qwyrkFkgjO"
   },
   "source": [
    "Here we see that UCB is able to identify the ad. But our goal is to find this ad in minimum rounds. Hence we will now reduce No. of users we will display the ads (N = 10000) to 5000 then 1000 then 500. We see that UCB is able to find the ad in with N=1000\n"
   ]
  },
  {
   "cell_type": "code",
   "execution_count": 10,
   "metadata": {
    "executionInfo": {
     "elapsed": 634,
     "status": "ok",
     "timestamp": 1621443750493,
     "user": {
      "displayName": "Ankush Morey",
      "photoUrl": "https://lh3.googleusercontent.com/a-/AOh14GjVKfn7g2JwyGbt-6iZ9k80cvedAuZTxNrECftL3Q=s64",
      "userId": "13924124285132504062"
     },
     "user_tz": 240
    },
    "id": "d0suSy68k3m5"
   },
   "outputs": [],
   "source": [
    "#No. of users we will display the ads\n",
    "N = 1000\n",
    "\n",
    "#No. of Ads we have\n",
    "d=10\n",
    "\n",
    "#Full list of ads that are selected, over the rounds it will get bigger and \n",
    "# bigger until it is 10000 elements\n",
    "ads_selected = []\n",
    "\n",
    "#Number of times Ad i was selected upto round n = Ni\n",
    "numbers_of_selections = [0] * d \n",
    "\n",
    "#Sum of rewards of Ad i upto round n = Ri\n",
    "Sums_of_rewards = [0] * d\n",
    "\n",
    "#Total rewards accumulated over the rounds\n",
    "total_reward = 0\n",
    "\n",
    "for n in range(0,N):\n",
    "  ad=0\n",
    "  max_upper_bound = 0\n",
    "  for i in range(0,d):\n",
    "    if numbers_of_selections[i] > 0:\n",
    "      avg_reward=Sums_of_rewards[i]/numbers_of_selections[i]\n",
    "      delta_i = math.sqrt((3/2)*(math.log(n+1)/numbers_of_selections[i]))\n",
    "      upper_bound = avg_reward + delta_i\n",
    "    else:\n",
    "      upper_bound = 1e400\n",
    "    if(upper_bound>max_upper_bound):\n",
    "      max_upper_bound = upper_bound\n",
    "      ad=i\n",
    "  ads_selected.append(ad)\n",
    "  numbers_of_selections[ad] += 1\n",
    "  reward = df.values[n,ad]\n",
    "  Sums_of_rewards[ad] = Sums_of_rewards[ad] + reward\n",
    "  total_reward = total_reward + reward"
   ]
  },
  {
   "cell_type": "code",
   "execution_count": 11,
   "metadata": {
    "colab": {
     "base_uri": "https://localhost:8080/",
     "height": 313
    },
    "executionInfo": {
     "elapsed": 446,
     "status": "ok",
     "timestamp": 1621443751488,
     "user": {
      "displayName": "Ankush Morey",
      "photoUrl": "https://lh3.googleusercontent.com/a-/AOh14GjVKfn7g2JwyGbt-6iZ9k80cvedAuZTxNrECftL3Q=s64",
      "userId": "13924124285132504062"
     },
     "user_tz": 240
    },
    "id": "EgxdlSFPk9Pe",
    "outputId": "188bd8a5-4379-4e43-fe94-01256e7b2fd7"
   },
   "outputs": [
    {
     "data": {
      "text/plain": [
       "Text(0.5, 1.0, 'Histogram of Ad selected')"
      ]
     },
     "execution_count": 11,
     "metadata": {
      "tags": []
     },
     "output_type": "execute_result"
    },
    {
     "data": {
      "image/png": "[encoded data removed]",
      "text/plain": [
       "<Figure size 432x288 with 1 Axes>"
      ]
     },
     "metadata": {
      "needs_background": "light",
      "tags": []
     },
     "output_type": "display_data"
    }
   ],
   "source": [
    "plt.hist(ads_selected)\n",
    "plt.xlabel('Ad number')\n",
    "plt.ylabel('No. of times selected')\n",
    "plt.title('Histogram of Ad selected')"
   ]
  },
  {
   "cell_type": "markdown",
   "metadata": {},
   "source": [
    "This is a very powerful technique to determine the best case out of multiple cases with least trials. Rather than performing exploration by simply selecting an arbitrary action, chosen with a probability that remains constant, the UCB algorithm changes its exploration-exploitation balance as it gathers more knowledge of the environment. It moves from being primarily focused on exploration, when actions that have been tried the least are preferred, to instead concentrate on exploitation, selecting the action with the highest estimated reward."
   ]
  },
  {
   "cell_type": "code",
   "execution_count": null,
   "metadata": {},
   "outputs": [],
   "source": []
  }
 ],
 "metadata": {
  "colab": {
   "collapsed_sections": [],
   "name": "Copy of upper_confidence_bound.ipynb",
   "provenance": [
    {
     "file_id": "12SoNSOpj7cnoKxvW6n64VN9ce0LBDv1f",
     "timestamp": 1621438361127
    }
   ],
   "toc_visible": true
  },
  "kernelspec": {
   "display_name": "Python 3",
   "language": "python",
   "name": "python3"
  },
  "language_info": {
   "codemirror_mode": {
    "name": "ipython",
    "version": 3
   },
   "file_extension": ".py",
   "mimetype": "text/x-python",
   "name": "python",
   "nbconvert_exporter": "python",
   "pygments_lexer": "ipython3",
   "version": "3.8.5"
  }
 },
 "nbformat": 4,
 "nbformat_minor": 1
}
